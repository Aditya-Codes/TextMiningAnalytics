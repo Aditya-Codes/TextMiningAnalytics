{
 "cells": [
  {
   "cell_type": "code",
   "execution_count": 16,
   "metadata": {},
   "outputs": [
    {
     "name": "stderr",
     "output_type": "stream",
     "text": [
      "Warning message:\n",
      "“package ‘rJava’ was built under R version 3.4.2”"
     ]
    },
    {
     "ename": "ERROR",
     "evalue": "Error: package or namespace load failed for ‘rJava’:\n .onLoad failed in loadNamespace() for 'rJava', details:\n  call: dyn.load(file, DLLpath = DLLpath, ...)\n  error: unable to load shared object '/Library/Frameworks/R.framework/Versions/3.4/Resources/library/rJava/libs/rJava.so':\n  dlopen(/Library/Frameworks/R.framework/Versions/3.4/Resources/library/rJava/libs/rJava.so, 6): Library not loaded: @rpath/libjvm.dylib\n  Referenced from: /Library/Frameworks/R.framework/Versions/3.4/Resources/library/rJava/libs/rJava.so\n  Reason: image not found\n",
     "output_type": "error",
     "traceback": [
      "Error: package or namespace load failed for ‘rJava’:\n .onLoad failed in loadNamespace() for 'rJava', details:\n  call: dyn.load(file, DLLpath = DLLpath, ...)\n  error: unable to load shared object '/Library/Frameworks/R.framework/Versions/3.4/Resources/library/rJava/libs/rJava.so':\n  dlopen(/Library/Frameworks/R.framework/Versions/3.4/Resources/library/rJava/libs/rJava.so, 6): Library not loaded: @rpath/libjvm.dylib\n  Referenced from: /Library/Frameworks/R.framework/Versions/3.4/Resources/library/rJava/libs/rJava.so\n  Reason: image not found\nTraceback:\n",
      "1. library(rJava)",
      "2. tryCatch({\n .     attr(package, \"LibPath\") <- which.lib.loc\n .     ns <- loadNamespace(package, lib.loc)\n .     env <- attachNamespace(ns, pos = pos, deps)\n . }, error = function(e) {\n .     P <- if (!is.null(cc <- conditionCall(e))) \n .         paste(\" in\", deparse(cc)[1L])\n .     else \"\"\n .     msg <- gettextf(\"package or namespace load failed for %s%s:\\n %s\", \n .         sQuote(package), P, conditionMessage(e))\n .     if (logical.return) \n .         message(paste(\"Error:\", msg), domain = NA)\n .     else stop(msg, call. = FALSE, domain = NA)\n . })",
      "3. tryCatchList(expr, classes, parentenv, handlers)",
      "4. tryCatchOne(expr, names, parentenv, handlers[[1L]])",
      "5. value[[3L]](cond)",
      "6. stop(msg, call. = FALSE, domain = NA)"
     ]
    }
   ],
   "source": [
    "Sys.setenv(JAVA_HOME='/Library/Java/JavaVirtualMachines/jdk1.8.0_102.jdk/Contents/Home') # for 64-bit version\n",
    "library(rJava)\n",
    "# Text mining packages\n",
    "#library(\"qdap\")"
   ]
  },
  {
   "cell_type": "code",
   "execution_count": 3,
   "metadata": {
    "collapsed": true
   },
   "outputs": [],
   "source": [
    "lincoln_movie_review = 'Beginning as the Civil War is approaching its end, Steven Spielberg’s Lincoln follows President Abraham Lincoln (Daniel Day-Lewis) as he tries to secure the passage of the 13th Amendment, which would end slavery. Wanting Congress to pass the amendment before the Confederate states return to the Union, Lincoln must wrangle votes from not only the Democratic opposition, but fellow Republicans such as Thaddeus Stevens (Tommy Lee Jones), who has a more radical vision for the future of the nation. Lincoln is a stately drama, with immaculate direction, a script of towering power, and an incredible performance by Day-Lewis.'"
   ]
  },
  {
   "cell_type": "code",
   "execution_count": 4,
   "metadata": {},
   "outputs": [
    {
     "name": "stdout",
     "output_type": "stream",
     "text": [
      "[1] \"Beginning as the Civil War is approaching its end, Steven Spielberg’s Lincoln follows President Abraham Lincoln (Daniel Day-Lewis) as he tries to secure the passage of the 13th Amendment, which would end slavery. Wanting Congress to pass the amendment before the Confederate states return to the Union, Lincoln must wrangle votes from not only the Democratic opposition, but fellow Republicans such as Thaddeus Stevens (Tommy Lee Jones), who has a more radical vision for the future of the nation. Lincoln is a stately drama, with immaculate direction, a script of towering power, and an incredible performance by Day-Lewis.\"\n"
     ]
    },
    {
     "ename": "ERROR",
     "evalue": "Error in freq_terms(lincoln_movie_review, 10): could not find function \"freq_terms\"\n",
     "output_type": "error",
     "traceback": [
      "Error in freq_terms(lincoln_movie_review, 10): could not find function \"freq_terms\"\nTraceback:\n"
     ]
    }
   ],
   "source": [
    "print (lincoln_movie_review)\n",
    "\n",
    "# Find the 10 most frequent terms: term_count\n",
    "term_count <- freq_terms(lincoln_movie_review, 10)\n",
    "\n",
    "# Plot term_count\n",
    "plot(term_count)"
   ]
  }
 ],
 "metadata": {
  "kernelspec": {
   "display_name": "R",
   "language": "R",
   "name": "ir"
  },
  "language_info": {
   "codemirror_mode": "r",
   "file_extension": ".r",
   "mimetype": "text/x-r-source",
   "name": "R",
   "pygments_lexer": "r",
   "version": "3.4.1"
  }
 },
 "nbformat": 4,
 "nbformat_minor": 2
}
